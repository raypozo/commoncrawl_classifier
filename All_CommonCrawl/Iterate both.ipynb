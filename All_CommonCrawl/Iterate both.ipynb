{
 "cells": [
  {
   "cell_type": "code",
   "execution_count": 1,
   "metadata": {
    "collapsed": true
   },
   "outputs": [],
   "source": [
    "#warcio is used to iterate over warc file\n",
    "#boilerpipe is used to extract text from HTML pages\n",
    "\n",
    "from warcio.archiveiterator import ArchiveIterator\n",
    "import io, time, json\n",
    "from boilerpipe.extract import Extractor\n",
    "import datetime\n",
    "from collections import defaultdict\n",
    "import numpy as np\n",
    "from scipy import stats\n",
    "import json\n",
    "from pathlib import Path"
   ]
  },
  {
   "cell_type": "code",
   "execution_count": 3,
   "metadata": {},
   "outputs": [
    {
     "name": "stdout",
     "output_type": "stream",
     "text": [
      "2018-03-08 12:34:57.100783\n",
      "THE END\n",
      "2018-03-08 12:35:38.878316\n",
      "0:00:41.777533\n"
     ]
    }
   ],
   "source": [
    "#RUN EVERYTHING\n",
    "a = datetime.datetime.now()\n",
    "print (a)\n",
    "conversion = 0\n",
    "    \n",
    "\n",
    "path = 'jan_2018_paths/' \n",
    "wet = 'CC-MAIN-20180116070444-20180116090444-00000.warc.wet'\n",
    "warc = 'CC-MAIN-20180116070444-20180116090444-00000.warc'\n",
    "with open(path+wet, 'rb') as wet, open(path+warc, 'rb') as warc:\n",
    "    warc_data_file = {}\n",
    "    wet_data_file = {}\n",
    "    \n",
    "    web_pages = []\n",
    "    not_parsed_types = defaultdict(int)\n",
    "    warc_offset=0\n",
    "    wet_offset=0\n",
    "    parsed_pages = 0\n",
    "    not_parsed_pages = 0\n",
    "    \n",
    "    iter_warc = ArchiveIterator(warc)\n",
    "    for wet_record in ArchiveIterator(wet):\n",
    "        warc_record = iter_warc.__next__()\n",
    "        wet_offset+=1\n",
    "        warc_offset+=1\n",
    "        \n",
    "        #there is only one 'warcinfo' in warc files\n",
    "        #represents the metadata of that file\n",
    "        if wet_record.rec_type == 'warcinfo':\n",
    "            \n",
    "            #warc_warcinfo header\n",
    "            tmp_wet = dict(wet_record.rec_headers.headers)\n",
    "            wet_data_file['date']=tmp_wet['WARC-Date']\n",
    "            wet_data_file['filename']=tmp_wet['WARC-Filename']\n",
    "            \n",
    "            tmp_warc = dict(warc_record.rec_headers.headers)\n",
    "            warc_data_file['date']=tmp_warc['WARC-Date']\n",
    "            warc_data_file['filename']=tmp_warc['WARC-Filename']\n",
    "            \n",
    "            \n",
    "        if wet_record.rec_type == 'conversion':\n",
    "            \n",
    "            #record warc_response header\n",
    "            tmp_wet = dict(wet_record.rec_headers.headers)\n",
    "            \n",
    "            #while (tmp_wet['WARC-Refers-To'] != tmp_warc['WARC-Record-ID'] and warc_record.rec_type != 'response'):\n",
    "            while (tmp_wet['WARC-Refers-To'] != tmp_warc['WARC-Record-ID']):\n",
    "                warc_record = iter_warc.__next__()\n",
    "                warc_offset+=1\n",
    "                #print(wet_offset, warc_offset)\n",
    "                tmp_warc = dict(warc_record.rec_headers.headers)\n",
    "            \n",
    "            \n",
    "            #print (tmp_wet['WARC-Refers-To'], tmp_warc['WARC-Record-ID'], warc_record.rec_type)\n",
    "            \n",
    "            record_dict = {'warc_offset':warc_offset,\n",
    "                        'length':int(tmp_warc['Content-Length']),\n",
    "                        'ip':tmp_warc['WARC-IP-Address'],\n",
    "                        'id':tmp_warc['WARC-Record-ID'],\n",
    "                        'URI':tmp_warc['WARC-Target-URI'],\n",
    "                        'payload-digest': tmp_warc['WARC-Payload-Digest']\n",
    "                          }\n",
    "            #print (record_dict)\n",
    "            record_dict['content_type'] = warc_record.http_headers.get_header('Content-Type')\n",
    "            record_dict['text'] = wet_record.raw_stream.read()\n",
    "            #print(record_dict['text'])\n",
    "            #record_dict['text'] = parsed_text\n",
    "                            \n",
    "            #print(content_type)\n",
    "        #print (record.rec_type, iter_warc.__next__().rec_type) \n",
    "        \n",
    "        \n",
    "        \n",
    "print (\"THE END\")\n",
    "#print (\"Total parsed pages: \",parsed_pages,\n",
    "#                  \"\\nTotal not parsed: \", not_parsed_pages)\n",
    "#for key,value in not_parsed_types.items():\n",
    "#    print (\"\\t\",key,\": \",value)\n",
    "\n",
    "b = datetime.datetime.now()\n",
    "print (b)\n",
    "print (b-a)"
   ]
  },
  {
   "cell_type": "code",
   "execution_count": 4,
   "metadata": {},
   "outputs": [
    {
     "data": {
      "text/plain": [
       "{'date': '2018-01-24T14:12:43Z',\n",
       " 'filename': 'CC-MAIN-20180116070444-20180116090444-00000.warc.wet.gz'}"
      ]
     },
     "execution_count": 4,
     "metadata": {},
     "output_type": "execute_result"
    }
   ],
   "source": [
    "wet_data_file"
   ]
  },
  {
   "cell_type": "code",
   "execution_count": null,
   "metadata": {
    "collapsed": true
   },
   "outputs": [],
   "source": []
  }
 ],
 "metadata": {
  "kernelspec": {
   "display_name": "Python 3",
   "language": "python",
   "name": "python3"
  },
  "language_info": {
   "codemirror_mode": {
    "name": "ipython",
    "version": 3
   },
   "file_extension": ".py",
   "mimetype": "text/x-python",
   "name": "python",
   "nbconvert_exporter": "python",
   "pygments_lexer": "ipython3",
   "version": "3.6.2"
  }
 },
 "nbformat": 4,
 "nbformat_minor": 2
}
