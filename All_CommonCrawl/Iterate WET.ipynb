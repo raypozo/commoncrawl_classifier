{
 "cells": [
  {
   "cell_type": "code",
   "execution_count": 1,
   "metadata": {
    "collapsed": true
   },
   "outputs": [],
   "source": [
    "#warcio is used to iterate over warc file\n",
    "#boilerpipe is used to extract text from HTML pages\n",
    "\n",
    "from warcio.archiveiterator import ArchiveIterator\n",
    "import io, time, json\n",
    "from boilerpipe.extract import Extractor\n",
    "import datetime\n",
    "from collections import defaultdict\n",
    "import numpy as np\n",
    "from scipy import stats\n",
    "import json"
   ]
  },
  {
   "cell_type": "code",
   "execution_count": 9,
   "metadata": {},
   "outputs": [
    {
     "name": "stdout",
     "output_type": "stream",
     "text": [
      "2018-03-08 10:55:12.889599\n",
      "THE END\n",
      "Total parsed pages:  0 \n",
      "Total not parsed:  0\n",
      "2018-03-08 10:55:15.831479\n",
      "0:00:02.941880\n"
     ]
    }
   ],
   "source": [
    "#RUN EVERYTHING\n",
    "a = datetime.datetime.now()\n",
    "print (a)\n",
    "conversion = 0\n",
    "    \n",
    "\n",
    "\n",
    "with open('jan_2018_paths/jan_2018.wet', 'rb') as stream:\n",
    "    \n",
    "    #Initialize data structures used to store the parsed webpages \n",
    "    data_file = {}\n",
    "    web_pages = []\n",
    "    not_parsed_types = defaultdict(int)\n",
    "    warc_offset=0\n",
    "    parsed_pages = 0\n",
    "    not_parsed_pages = 0\n",
    "    #Iterate the .WARC file\n",
    "    for record in ArchiveIterator(stream):\n",
    "        \n",
    "        #there is only one 'warcinfo' per file\n",
    "        #represents the metadata of that file\n",
    "        if record.rec_type == 'warcinfo':\n",
    "            \n",
    "            #warc_warcinfo header\n",
    "            tmp = dict(record.rec_headers.headers)\n",
    "            data_file['date']=tmp['WARC-Date']\n",
    "            data_file['filename']=tmp['WARC-Filename']\n",
    "        \n",
    "        #represents the HTTP response.\n",
    "        #This represent the crawled data\n",
    "        elif record.rec_type == 'response':\n",
    "            print  (\"WARC file with type RESPONSE find\")\n",
    "            '''\n",
    "            #warc_response header\n",
    "            tmp = dict(record.rec_headers.headers)\n",
    "            record_dict = {'warc_offset':warc_offset,\n",
    "                        'length':int(tmp['Content-Length']),\n",
    "                        'ip':tmp['WARC-IP-Address'],\n",
    "                        'URI':tmp['WARC-Target-URI'],\n",
    "                        'Payload-Digest': tmp['WARC-Payload-Digest']\n",
    "                          }\n",
    "            \n",
    "            #there are different several types of data,\n",
    "            #we only parse HTML files and decide that using the HTTP Header field'content-types'\n",
    "            content_type = record.http_headers.get_header('Content-Type')\n",
    "            '''\n",
    "        elif record.rec_type == 'resource':\n",
    "            print  (\"WARC file with type RESOURCE find\")\n",
    "        \n",
    "        elif record.rec_type == 'revisit':\n",
    "            print  (\"WARC file with type REVISIT find\")\n",
    "        \n",
    "        elif record.rec_type == 'conversion':\n",
    "            #print  (\"WARC file with type CONVERSION find\")\n",
    "            conversion+=1\n",
    "        warc_offset+=1\n",
    "        \n",
    "print (\"THE END\")\n",
    "print (\"Total parsed pages: \",parsed_pages,\n",
    "                  \"\\nTotal not parsed: \", not_parsed_pages)\n",
    "for key,value in not_parsed_types.items():\n",
    "    print (\"\\t\",key,\": \",value)\n",
    "\n",
    "b = datetime.datetime.now()\n",
    "print (b)\n",
    "print (b-a)"
   ]
  },
  {
   "cell_type": "code",
   "execution_count": 10,
   "metadata": {},
   "outputs": [
    {
     "data": {
      "text/plain": [
       "42031"
      ]
     },
     "execution_count": 10,
     "metadata": {},
     "output_type": "execute_result"
    }
   ],
   "source": [
    "conversion"
   ]
  },
  {
   "cell_type": "code",
   "execution_count": null,
   "metadata": {
    "collapsed": true
   },
   "outputs": [],
   "source": []
  }
 ],
 "metadata": {
  "kernelspec": {
   "display_name": "Python 3",
   "language": "python",
   "name": "python3"
  },
  "language_info": {
   "codemirror_mode": {
    "name": "ipython",
    "version": 3
   },
   "file_extension": ".py",
   "mimetype": "text/x-python",
   "name": "python",
   "nbconvert_exporter": "python",
   "pygments_lexer": "ipython3",
   "version": "3.6.2"
  }
 },
 "nbformat": 4,
 "nbformat_minor": 2
}
